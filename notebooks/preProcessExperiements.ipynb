{
 "cells": [
  {
   "cell_type": "code",
   "execution_count": 1,
   "id": "44362c2c",
   "metadata": {},
   "outputs": [],
   "source": [
    "import pandas as pd\n",
    "import numpy as np\n",
    "import matplotlib.pyplot as plt\n",
    "import seaborn as sns\n",
    "import os\n",
    "\n",
    "project_root=os.path.dirname(os.getcwd())\n",
    "raw_file_path=project_root+'/data/dataset.csv'\n",
    "\n",
    "df = pd.read_csv(raw_file_path)\n",
    "\n",
    "\n",
    "\n"
   ]
  },
  {
   "cell_type": "code",
   "execution_count": 2,
   "id": "c85c0d4e",
   "metadata": {},
   "outputs": [
    {
     "data": {
      "text/plain": [
       "0"
      ]
     },
     "execution_count": 2,
     "metadata": {},
     "output_type": "execute_result"
    }
   ],
   "source": [
    "df.drop(columns='customerID',inplace=True)\n",
    "df.replace(\" \",np.nan,inplace=True)\n",
    "df['TotalCharges']=pd.to_numeric(df['TotalCharges'])\n",
    "mask=df['TotalCharges'].isna()\n",
    "df.loc[mask,'TotalCharges']=(df.loc[mask,'MonthlyCharges']*df.loc[mask,'tenure']).fillna(0)\n",
    "df['TotalCharges'].isna().sum()\n"
   ]
  },
  {
   "cell_type": "code",
   "execution_count": 3,
   "id": "3466297c",
   "metadata": {},
   "outputs": [
    {
     "name": "stdout",
     "output_type": "stream",
     "text": [
      "gender\n",
      "Male      3555\n",
      "Female    3488\n",
      "Name: count, dtype: int64\n",
      "SeniorCitizen\n",
      "0    5901\n",
      "1    1142\n",
      "Name: count, dtype: int64\n",
      "Partner\n",
      "No     3641\n",
      "Yes    3402\n",
      "Name: count, dtype: int64\n",
      "Dependents\n",
      "No     4933\n",
      "Yes    2110\n",
      "Name: count, dtype: int64\n",
      "tenure\n",
      "1     613\n",
      "72    362\n",
      "2     238\n",
      "3     200\n",
      "4     176\n",
      "     ... \n",
      "28     57\n",
      "39     56\n",
      "44     51\n",
      "36     50\n",
      "0      11\n",
      "Name: count, Length: 73, dtype: int64\n",
      "PhoneService\n",
      "Yes    6361\n",
      "No      682\n",
      "Name: count, dtype: int64\n",
      "MultipleLines\n",
      "No     4072\n",
      "Yes    2971\n",
      "Name: count, dtype: int64\n",
      "InternetService\n",
      "Fiber optic    3096\n",
      "DSL            2421\n",
      "No             1526\n",
      "Name: count, dtype: int64\n",
      "OnlineSecurity\n",
      "No     5024\n",
      "Yes    2019\n",
      "Name: count, dtype: int64\n",
      "OnlineBackup\n",
      "No     4614\n",
      "Yes    2429\n",
      "Name: count, dtype: int64\n",
      "DeviceProtection\n",
      "No     4621\n",
      "Yes    2422\n",
      "Name: count, dtype: int64\n",
      "TechSupport\n",
      "No     4999\n",
      "Yes    2044\n",
      "Name: count, dtype: int64\n",
      "StreamingTV\n",
      "No     4336\n",
      "Yes    2707\n",
      "Name: count, dtype: int64\n",
      "StreamingMovies\n",
      "No     4311\n",
      "Yes    2732\n",
      "Name: count, dtype: int64\n",
      "Contract\n",
      "Month-to-month    3875\n",
      "Two year          1695\n",
      "One year          1473\n",
      "Name: count, dtype: int64\n",
      "PaperlessBilling\n",
      "Yes    4171\n",
      "No     2872\n",
      "Name: count, dtype: int64\n",
      "PaymentMethod\n",
      "Electronic check             2365\n",
      "Mailed check                 1612\n",
      "Bank transfer (automatic)    1544\n",
      "Credit card (automatic)      1522\n",
      "Name: count, dtype: int64\n",
      "MonthlyCharges\n",
      "20.05     61\n",
      "19.85     45\n",
      "19.95     44\n",
      "19.90     44\n",
      "20.00     43\n",
      "          ..\n",
      "23.65      1\n",
      "114.70     1\n",
      "43.65      1\n",
      "87.80      1\n",
      "78.70      1\n",
      "Name: count, Length: 1585, dtype: int64\n",
      "TotalCharges\n",
      "0.00       11\n",
      "20.20      11\n",
      "19.75       9\n",
      "20.05       8\n",
      "19.90       8\n",
      "           ..\n",
      "6849.40     1\n",
      "692.35      1\n",
      "130.15      1\n",
      "3211.90     1\n",
      "6844.50     1\n",
      "Name: count, Length: 6531, dtype: int64\n",
      "Churn\n",
      "No     5174\n",
      "Yes    1869\n",
      "Name: count, dtype: int64\n"
     ]
    }
   ],
   "source": [
    "\n",
    "\n",
    "cols=['OnlineSecurity','OnlineBackup','DeviceProtection','TechSupport','StreamingTV','StreamingMovies']\n",
    "\n",
    "for col in cols:\n",
    "    df.loc[df[col]=='No internet service',col]='No'\n",
    "\n",
    "df.loc[df['MultipleLines']=='No phone service','MultipleLines']='No'\n",
    "\n",
    "for col in df.columns:\n",
    "    print(df[col].value_counts())\n",
    "    "
   ]
  },
  {
   "cell_type": "code",
   "execution_count": 4,
   "id": "6c3e70bf",
   "metadata": {},
   "outputs": [
    {
     "name": "stdout",
     "output_type": "stream",
     "text": [
      "gender               object\n",
      "SeniorCitizen         int64\n",
      "Partner              object\n",
      "Dependents           object\n",
      "tenure                int64\n",
      "PhoneService         object\n",
      "MultipleLines        object\n",
      "InternetService      object\n",
      "OnlineSecurity       object\n",
      "OnlineBackup         object\n",
      "DeviceProtection     object\n",
      "TechSupport          object\n",
      "StreamingTV          object\n",
      "StreamingMovies      object\n",
      "Contract             object\n",
      "PaperlessBilling     object\n",
      "PaymentMethod        object\n",
      "MonthlyCharges      float64\n",
      "TotalCharges        float64\n",
      "Churn                object\n",
      "dtype: object\n"
     ]
    }
   ],
   "source": [
    "print(df.dtypes)"
   ]
  },
  {
   "cell_type": "code",
   "execution_count": 5,
   "id": "8117a91d",
   "metadata": {},
   "outputs": [
    {
     "name": "stdout",
     "output_type": "stream",
     "text": [
      "Numeric cols: ['SeniorCitizen', 'tenure', 'MonthlyCharges', 'TotalCharges']\n",
      "Categorical cols: ['gender', 'Partner', 'Dependents', 'PhoneService', 'MultipleLines', 'InternetService', 'OnlineSecurity', 'OnlineBackup', 'DeviceProtection', 'TechSupport', 'StreamingTV', 'StreamingMovies', 'Contract', 'PaperlessBilling', 'PaymentMethod', 'Churn']\n"
     ]
    }
   ],
   "source": [
    "# %% [code]\n",
    "categorical_cols = df.select_dtypes(include=['object']).columns.tolist()\n",
    "numeric_cols = df.select_dtypes(include=['number']).columns.tolist()\n",
    "\n",
    "print(\"Numeric cols:\", numeric_cols)\n",
    "print(\"Categorical cols:\", categorical_cols)\n"
   ]
  },
  {
   "cell_type": "code",
   "execution_count": 6,
   "id": "16774633",
   "metadata": {},
   "outputs": [
    {
     "name": "stdout",
     "output_type": "stream",
     "text": [
      "gender                                       int64\n",
      "SeniorCitizen                                int64\n",
      "Partner                                      int64\n",
      "Dependents                                   int64\n",
      "tenure                                       int64\n",
      "PhoneService                                 int64\n",
      "MultipleLines                                int64\n",
      "OnlineSecurity                               int64\n",
      "OnlineBackup                                 int64\n",
      "DeviceProtection                             int64\n",
      "TechSupport                                  int64\n",
      "StreamingTV                                  int64\n",
      "StreamingMovies                              int64\n",
      "PaperlessBilling                             int64\n",
      "MonthlyCharges                             float64\n",
      "TotalCharges                               float64\n",
      "Churn                                        int64\n",
      "InternetService_DSL                          int64\n",
      "InternetService_Fiber optic                  int64\n",
      "InternetService_No                           int64\n",
      "Contract_Month-to-month                      int64\n",
      "Contract_One year                            int64\n",
      "Contract_Two year                            int64\n",
      "PaymentMethod_Bank transfer (automatic)      int64\n",
      "PaymentMethod_Credit card (automatic)        int64\n",
      "PaymentMethod_Electronic check               int64\n",
      "PaymentMethod_Mailed check                   int64\n",
      "dtype: object\n"
     ]
    }
   ],
   "source": [
    "df_processed = df.copy()\n",
    "binary_cols = ['Partner', 'Dependents', 'PhoneService', 'MultipleLines',\n",
    "               'OnlineSecurity', 'OnlineBackup', 'DeviceProtection',\n",
    "               'TechSupport', 'StreamingTV', 'StreamingMovies',\n",
    "               'PaperlessBilling', 'Churn']\n",
    "\n",
    "for col in binary_cols:\n",
    "    df_processed[col] = df_processed[col].map({'Yes': 1, 'No': 0}).astype(int)\n",
    "\n",
    "df_processed['gender'] = df_processed['gender'].map({'Female': 0, 'Male': 1}).astype(int)\n",
    "\n",
    "df_processed = pd.get_dummies(df_processed, columns=['InternetService', 'Contract', 'PaymentMethod'])\n",
    "\n",
    "\n",
    "\n",
    "for column in df_processed.select_dtypes(bool):\n",
    "    df_processed[column] = df_processed[column].map({True: 1, False: 0}).astype(int)\n",
    "\n",
    "print(df_processed.dtypes)\n",
    "\n"
   ]
  }
 ],
 "metadata": {
  "kernelspec": {
   "display_name": "venv",
   "language": "python",
   "name": "python3"
  },
  "language_info": {
   "codemirror_mode": {
    "name": "ipython",
    "version": 3
   },
   "file_extension": ".py",
   "mimetype": "text/x-python",
   "name": "python",
   "nbconvert_exporter": "python",
   "pygments_lexer": "ipython3",
   "version": "3.12.3"
  }
 },
 "nbformat": 4,
 "nbformat_minor": 5
}
